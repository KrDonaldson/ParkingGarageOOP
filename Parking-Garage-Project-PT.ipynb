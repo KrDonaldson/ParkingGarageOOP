{
 "cells": [
  {
   "cell_type": "markdown",
   "metadata": {},
   "source": [
    "# Parking Garage Project\n",
    "\n",
    "Your assignment for today is to create a parking garage class to get more familiar with Object Oriented Programming(OOP). \n",
    "\n",
    "Your parking gargage class should have the following methods:\n",
    "- takeTicket\n",
    "   - This should decrease the amount of tickets available by 1\n",
    "   - This should decrease the amount of parkingSpaces available by 1\n",
    "- payForParking\n",
    "   - Display an input that waits for an amount from the user and store it in a variable\n",
    "   - If the payment variable is not empty then ->  display a message to the user that their ticket has been paid and they have 15mins to leave\n",
    "   - This should update the \"currentTicket\" dictionary key \"paid\" to True\n",
    "- leaveGarage\n",
    "   - If the ticket has been paid, display a message of \"Thank You, have a nice day\"\n",
    "   - If the ticket has not been paid, display an input prompt for payment\n",
    "      - Once paid, display message \"Thank you, have a nice day!\"\n",
    "   - Update parkingSpaces list to increase by 1\n",
    "   - Update tickets list to increase by 1\n",
    "\n",
    "You will need a few attributes as well:\n",
    "- tickets -> list\n",
    "- parkingSpaces -> list\n",
    "- currentTicket -> dictionary"
   ]
  },
  {
   "cell_type": "code",
   "execution_count": null,
   "metadata": {},
   "outputs": [
    {
     "name": "stdout",
     "output_type": "stream",
     "text": [
      "What would you like to do? \n",
      "1. Park \n",
      "2. Pay \n",
      "3. Leave? 1\n",
      "Please take ticket number 1.\n",
      "[2, 3, 4, 5, 6, 7, 8, 9, 10]\n",
      "[1, 2, 3, 4, 5, 6, 7, 8, 9]\n",
      "What would you like to do? \n",
      "1. Park \n",
      "2. Pay \n",
      "3. Leave? 2\n",
      "What is your ticket number? :1\n",
      "How much will you be paying? :11\n",
      "Your ticket has been paid. You have 15 minutes to exit the garage.\n",
      "What would you like to do? \n",
      "1. Park \n",
      "2. Pay \n",
      "3. Leave? 3\n",
      "What is your ticket number? :1\n",
      "Thank You, have a nice day\n"
     ]
    }
   ],
   "source": [
    "class ParkingGarage():\n",
    "\n",
    "    tickets = [1,2,3,4,5,6,7,8,9,10]\n",
    "    parkingSpaces = [1,2,3,4,5,6,7,8,9,10]\n",
    "    currentTicket ={}    \n",
    "    \n",
    "    @classmethod\n",
    "    def take_ticket(self):\n",
    "        self.ticket_number = self.tickets.pop(0)\n",
    "        self.parkingSpaces.pop()\n",
    "        self.currentTicket['Ticket Number']=self.ticket_number\n",
    "        self.currentTicket.update({ self.ticket_number: { 'paid' : False}})\n",
    "        print(f'Please take ticket number {self.ticket_number}.')\n",
    "        print(self.tickets)\n",
    "        print(self.parkingSpaces)\n",
    "        what_do()\n",
    "    \n",
    "    @classmethod\n",
    "    def pay_for_ticket(self):\n",
    "        self.ticket_number = input('What is your ticket number? :')\n",
    "        payment = input('How much will you be paying? :')\n",
    "        if payment:\n",
    "            self.currentTicket.update({ self.ticket_number: { 'paid' : True}})\n",
    "            print(\"Your ticket has been paid. You have 15 minutes to exit the garage.\")\n",
    "        what_do()\n",
    "        \n",
    "    @classmethod    \n",
    "    def leave_garage(self):\n",
    "        self.ticket_number = input('What is your ticket number? :')\n",
    "        if self.currentTicket[self.ticket_number]['paid'] == True:\n",
    "            print (\"Thank You, have a nice day\")\n",
    "        else:\n",
    "            payment = input('How much will you be paying? :')\n",
    "            if payment:\n",
    "                self.currentTicket.update({ self.ticket_number: { 'paid' : True}})\n",
    "                print(\"Thank you, have a nice day!\")\n",
    "        self.parkingSpaces.append(self.ticket_number)\n",
    "        self.tickets.append(self.ticket_number)\n",
    "        what_do()\n",
    "        \n",
    "    def what_do():\n",
    "        user_input = input(\"What would you like to do? \\n1. Park \\n2. Pay \\n3. Leave? \")\n",
    "        if int(user_input) == 1:\n",
    "            ParkingGarage.take_ticket()\n",
    "        elif int(user_input) == 2:\n",
    "            ParkingGarage.pay_for_ticket()\n",
    "        elif int(user_input) == 3:\n",
    "            ParkingGarage.leave_garage()\n",
    "        else: \n",
    "            print(\"Please select a valid option\")\n",
    "            what_do()\n",
    "    \n",
    "ParkingGarage.what_do()"
   ]
  },
  {
   "cell_type": "code",
   "execution_count": null,
   "metadata": {},
   "outputs": [],
   "source": []
  }
 ],
 "metadata": {
  "kernelspec": {
   "display_name": "Python 3",
   "language": "python",
   "name": "python3"
  },
  "language_info": {
   "codemirror_mode": {
    "name": "ipython",
    "version": 3
   },
   "file_extension": ".py",
   "mimetype": "text/x-python",
   "name": "python",
   "nbconvert_exporter": "python",
   "pygments_lexer": "ipython3",
   "version": "3.8.5"
  }
 },
 "nbformat": 4,
 "nbformat_minor": 2
}
